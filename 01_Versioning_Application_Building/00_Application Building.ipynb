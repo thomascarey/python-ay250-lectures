{
 "cells": [
  {
   "cell_type": "markdown",
   "metadata": {},
   "source": [
    "<center>\n",
    "<h1>Python Application Building</h1>\n",
    "<img src=\"http://i.imgur.com/91PUPZA.png\" width=20%>\n",
    "</center>\n",
    "\n",
    "<center>\n",
    "AY 250, Spring 2013, Fall 2016; Josh Bloom\n",
    "</center>"
   ]
  },
  {
   "cell_type": "code",
   "execution_count": 7,
   "metadata": {
    "collapsed": false
   },
   "outputs": [
    {
     "name": "stdout",
     "output_type": "stream",
     "text": [
      "Collecting simplejson\n",
      "  Using cached simplejson-3.10.0-cp35-cp35m-macosx_10_11_x86_64.whl\n",
      "Installing collected packages: simplejson\n",
      "Successfully installed simplejson-3.10.0\n"
     ]
    }
   ],
   "source": [
    "!pip install simplejson --target=/tmp/"
   ]
  },
  {
   "cell_type": "code",
   "execution_count": 8,
   "metadata": {
    "collapsed": false
   },
   "outputs": [
    {
     "name": "stdout",
     "output_type": "stream",
     "text": [
      "/tmp/simplejson:\r\n",
      "__init__.py                     encoder.py\r\n",
      "\u001b[34m__pycache__\u001b[m\u001b[m                     ordered_dict.py\r\n",
      "\u001b[31m_speedups.cpython-35m-darwin.so\u001b[m\u001b[m scanner.py\r\n",
      "compat.py                       \u001b[34mtests\u001b[m\u001b[m\r\n",
      "decoder.py                      tool.py\r\n",
      "\r\n",
      "/tmp/simplejson-3.10.0.dist-info:\r\n",
      "DESCRIPTION.rst METADATA        WHEEL           top_level.txt\r\n",
      "INSTALLER       RECORD          metadata.json\r\n"
     ]
    }
   ],
   "source": [
    "!ls /tmp/simple*"
   ]
  },
  {
   "cell_type": "markdown",
   "metadata": {},
   "source": [
    "`...dist-info` directory is part of the \"standard infrastructure to manage project distributions installed on a system, so all tools that are installing or removing projects are interoperable.\" [PEP-376](https://www.python.org/dev/peps/pep-0376/#id19)\n",
    "\n",
    "[Note the .whl extension...see [\"Wheel vs EGG\"](https://packaging.python.org/wheel_egg/) and [Wheel info](https://wheel.readthedocs.io/en/latest/)]\n",
    "\n",
    "Now, you can have Python know about your special installation directory by modifying your `PYTHONPATH` environment variable in your `.bashrc`, `.cshrc`, or `.tcshrc` file:\n",
    "```bash\n",
    "#BASH Style: \n",
    "export PYTHONPATH=/tmp/simplejson:$PYTHONPATH\n",
    "#CSH Style:\n",
    "setenv PYTHONPATH /path/to/my_choice:$PYTHONPATH\n",
    "```"
   ]
  },
  {
   "cell_type": "markdown",
   "metadata": {},
   "source": [
    "# Getting and Installing Packages with `setup.py` #\n",
    "\n",
    "Sometimes `conda` and `pip` cannot find a codebase you're trying to install. In this case you'll need to do it yourself using a tarball and a `setup.py` file. This is the most straightforward way to get packages: download them from the developer’s website and hope that they’ve followed the standard conventions.\n",
    "\n",
    "There is a standard Python package distribution scheme using `distutils2` and `setup.py` files...more on that later.\n",
    "\n",
    "Basic workflow of installing a package with `setup.py`:\n",
    "```bash\n",
    "$ cd [folder with package and setup.py file]\n",
    "$ sudo python setup.py install\n",
    "   # [ progress report ... ]\n",
    "$ Finished processing dependencies for [package]\n",
    "   # [if you want more info, there are several options to modify]\n",
    "$ python setup.py --help install\n",
    "```\n",
    "\n",
    "To do a custom installation directory (if you dont have sudo, e.g.):\n",
    "```bash\n",
    "# {-- on unix --}\n",
    "$ python setup.py install --home <my_choice>\n",
    "\n",
    "# {-- on windows --}\n",
    "$ python setup.py install --prefix “my_choice”\n",
    "```"
   ]
  },
  {
   "cell_type": "markdown",
   "metadata": {},
   "source": [
    "# Managing Packages - `virtualenv`/`conda` environments #\n",
    "\n",
    "* Open Source software is constantly changing - how do you protect working code against future updates?\n",
    "* Or, what if there is a beta release of a package you want to try, but you don’t want to fully commit yet?\n",
    "* `virtualenv` and `conda -n` creates a local, self-contained, and totally separate python installation.\n",
    "* Use it to create a local Python ecosystem, separate from your computer’s main system, so that you can do what you want in one without affecting the other."
   ]
  },
  {
   "cell_type": "markdown",
   "metadata": {},
   "source": [
    "# `virtualenv` #\n",
    "\n",
    "installing:"
   ]
  },
  {
   "cell_type": "code",
   "execution_count": 9,
   "metadata": {
    "collapsed": false
   },
   "outputs": [
    {
     "name": "stdout",
     "output_type": "stream",
     "text": [
      "Requirement already up-to-date: virtualenv in /Users/jbloom/anaconda/envs/seminar/lib/python3.5/site-packages\r\n"
     ]
    }
   ],
   "source": [
    "!pip install --upgrade virtualenv"
   ]
  },
  {
   "cell_type": "markdown",
   "metadata": {},
   "source": [
    "Creating a new environment:"
   ]
  },
  {
   "cell_type": "markdown",
   "metadata": {},
   "source": [
    "[![asciicast](https://asciinema.org/a/cxhbq03rtd39ez8sy5scwqk1w.png)](https://asciinema.org/a/cxhbq03rtd39ez8sy5scwqk1w)"
   ]
  },
  {
   "cell_type": "markdown",
   "metadata": {},
   "source": [
    "(https://asciinema.org/)\n",
    "\n",
    "During a shell session, you can source this environment so that it runs as the default:\n",
    "\n",
    "```bash\n",
    "$ source LocalPython/bin/activate\n",
    "(LocalPython)$\n",
    "#[ pip and python commands now point to new environment ]\n",
    "(LocalPython)$ which python\n",
    "LocalPython/bin/python\n",
    "```\n",
    "\n",
    "We can get out of the enviroment:\n",
    "\n",
    "```bash\n",
    " deactivate LocalPython\n",
    "```\n",
    "Just delete to remove environment:\n",
    "\n",
    "```bash\n",
    "rm -r LocalPython\n",
    "```\n"
   ]
  },
  {
   "cell_type": "markdown",
   "metadata": {},
   "source": [
    "# conda -n #\n",
    "http://www.continuum.io/blog/conda"
   ]
  },
  {
   "cell_type": "code",
   "execution_count": 10,
   "metadata": {
    "collapsed": false
   },
   "outputs": [
    {
     "name": "stdout",
     "output_type": "stream",
     "text": [
      "Warning: could not import binstar_client ('args' object has no attribute 'site')Current conda install:\n",
      "\n",
      "             platform : osx-64\n",
      "        conda version : 4.1.11\n",
      "    conda-env version : 2.5.2\n",
      "  conda-build version : 1.9.1\n",
      "       python version : 2.7.11.final.0\n",
      "     requests version : 2.10.0\n",
      "     root environment : /Users/jbloom/anaconda  (writable)\n",
      "  default environment : /Users/jbloom/anaconda/envs/seminar\n",
      "     envs directories : /Users/jbloom/anaconda/envs\n",
      "        package cache : /Users/jbloom/anaconda/pkgs\n",
      "         channel URLs : https://repo.continuum.io/pkgs/free/osx-64/\n",
      "                        https://repo.continuum.io/pkgs/free/noarch/\n",
      "                        https://repo.continuum.io/pkgs/pro/osx-64/\n",
      "                        https://repo.continuum.io/pkgs/pro/noarch/\n",
      "          config file : None\n",
      "         offline mode : False\n",
      "    is foreign system : False\n",
      "\n"
     ]
    }
   ],
   "source": [
    "!conda info"
   ]
  },
  {
   "cell_type": "code",
   "execution_count": 11,
   "metadata": {
    "collapsed": false
   },
   "outputs": [
    {
     "name": "stdout",
     "output_type": "stream",
     "text": [
      "Warning: could not import binstar_client ('args' object has no attribute 'site')# conda environments:\n",
      "#\n",
      "_test                    /Users/jbloom/anaconda/envs/_test\n",
      "bootcamp                 /Users/jbloom/anaconda/envs/bootcamp\n",
      "dd                       /Users/jbloom/anaconda/envs/dd\n",
      "i13                      /Users/jbloom/anaconda/envs/i13\n",
      "ipykernel_py2            /Users/jbloom/anaconda/envs/ipykernel_py2\n",
      "numpy15                  /Users/jbloom/anaconda/envs/numpy15\n",
      "py3k                     /Users/jbloom/anaconda/envs/py3k\n",
      "seminar               *  /Users/jbloom/anaconda/envs/seminar\n",
      "root                     /Users/jbloom/anaconda\n",
      "\n"
     ]
    }
   ],
   "source": [
    "!conda info -e"
   ]
  },
  {
   "cell_type": "code",
   "execution_count": 12,
   "metadata": {
    "collapsed": false
   },
   "outputs": [
    {
     "name": "stdout",
     "output_type": "stream",
     "text": [
      "Fetching package metadata .......\n",
      "simplejson                .  3.8.1                    py27_0  defaults        \n",
      "                             3.8.1                    py34_0  defaults        \n",
      "                             3.8.1                    py35_0  defaults        \n",
      "                             3.8.2                    py27_0  defaults        \n",
      "                             3.8.2                    py34_0  defaults        \n",
      "                             3.8.2                    py35_0  defaults        \n",
      "                             3.9.0                    py27_0  defaults        \n",
      "                             3.9.0                    py34_0  defaults        \n",
      "                             3.9.0                    py35_0  defaults        \n",
      "                             3.10.0                   py27_0  defaults        \n",
      "                             3.10.0                   py34_0  defaults        \n",
      "                             3.10.0                   py35_0  defaults        \n"
     ]
    }
   ],
   "source": [
    "!conda search simplejson"
   ]
  },
  {
   "cell_type": "code",
   "execution_count": 13,
   "metadata": {
    "collapsed": false
   },
   "outputs": [
    {
     "name": "stdout",
     "output_type": "stream",
     "text": [
      "Fetching package metadata .......\n",
      "Solving package specifications: ..........\n",
      "\n",
      "Package plan for installation in environment /Users/jbloom/anaconda/envs/sj381-test:\n",
      "\n",
      "The following NEW packages will be INSTALLED:\n",
      "\n",
      "    openssl:    1.0.2j-0     \n",
      "    pip:        9.0.1-py27_0 \n",
      "    python:     2.7.12-1     \n",
      "    readline:   6.2-2        \n",
      "    setuptools: 27.2.0-py27_0\n",
      "    simplejson: 3.8.1-py27_0 \n",
      "    sqlite:     3.13.0-0     \n",
      "    tk:         8.5.18-0     \n",
      "    wheel:      0.29.0-py27_0\n",
      "    zlib:       1.2.8-3      \n",
      "\n",
      "Linking packages ...\n",
      "[      COMPLETE      ]|###################################################| 100%\n",
      "#\n",
      "# To activate this environment, use:\n",
      "# $ source activate sj381-test\n",
      "#\n",
      "# To deactivate this environment, use:\n",
      "# $ source deactivate\n",
      "#\n"
     ]
    }
   ],
   "source": [
    "!conda create -n sj381-test simplejson=3.8.1 -y"
   ]
  },
  {
   "cell_type": "code",
   "execution_count": 14,
   "metadata": {
    "collapsed": false
   },
   "outputs": [
    {
     "name": "stdout",
     "output_type": "stream",
     "text": [
      "Warning: could not import binstar_client ('args' object has no attribute 'site')# conda environments:\n",
      "#\n",
      "_test                    /Users/jbloom/anaconda/envs/_test\n",
      "bootcamp                 /Users/jbloom/anaconda/envs/bootcamp\n",
      "dd                       /Users/jbloom/anaconda/envs/dd\n",
      "i13                      /Users/jbloom/anaconda/envs/i13\n",
      "ipykernel_py2            /Users/jbloom/anaconda/envs/ipykernel_py2\n",
      "numpy15                  /Users/jbloom/anaconda/envs/numpy15\n",
      "py3k                     /Users/jbloom/anaconda/envs/py3k\n",
      "seminar               *  /Users/jbloom/anaconda/envs/seminar\n",
      "sj381-test               /Users/jbloom/anaconda/envs/sj381-test\n",
      "root                     /Users/jbloom/anaconda\n",
      "\n"
     ]
    }
   ],
   "source": [
    "!conda info -e"
   ]
  },
  {
   "cell_type": "code",
   "execution_count": 15,
   "metadata": {
    "collapsed": false
   },
   "outputs": [
    {
     "name": "stdout",
     "output_type": "stream",
     "text": [
      "\u001b[31m2to3\u001b[m\u001b[m             \u001b[35measy_install-2.7\u001b[m\u001b[m \u001b[35mpython-config\u001b[m\u001b[m    \u001b[31msqlite3\u001b[m\u001b[m\r\n",
      "\u001b[35mactivate\u001b[m\u001b[m         \u001b[31midle\u001b[m\u001b[m             \u001b[35mpython2\u001b[m\u001b[m          \u001b[31mtclsh8.5\u001b[m\u001b[m\r\n",
      "\u001b[31mc_rehash\u001b[m\u001b[m         \u001b[31mopenssl\u001b[m\u001b[m          \u001b[35mpython2-config\u001b[m\u001b[m   \u001b[31mwheel\u001b[m\u001b[m\r\n",
      "\u001b[35mconda\u001b[m\u001b[m            \u001b[31mpip\u001b[m\u001b[m              \u001b[31mpython2.7\u001b[m\u001b[m        \u001b[31mwish8.5\u001b[m\u001b[m\r\n",
      "\u001b[35mdeactivate\u001b[m\u001b[m       \u001b[31mpydoc\u001b[m\u001b[m            \u001b[31mpython2.7-config\u001b[m\u001b[m\r\n",
      "\u001b[31measy_install\u001b[m\u001b[m     \u001b[35mpython\u001b[m\u001b[m           \u001b[31msmtpd.py\u001b[m\u001b[m\r\n"
     ]
    }
   ],
   "source": [
    "!ls /Users/jbloom/anaconda/envs/sj381-test/bin"
   ]
  },
  {
   "cell_type": "markdown",
   "metadata": {},
   "source": [
    "We could make this environment the default if we want to:\n",
    "```bash\n",
    "export PATH=~/anaconda/envs/sj381-test/bin:$PATH\n",
    "```\n",
    "And if we want to remove that environment:\n",
    "```bash\n",
    "conda remove -n sj381-test --all\n",
    "```"
   ]
  },
  {
   "cell_type": "code",
   "execution_count": 16,
   "metadata": {
    "collapsed": false
   },
   "outputs": [
    {
     "name": "stdout",
     "output_type": "stream",
     "text": [
      "\n",
      "Package plan for package removal in environment /Users/jbloom/anaconda/envs/sj381-test:\n",
      "\n",
      "The following packages will be REMOVED:\n",
      "\n",
      "    openssl:    1.0.2j-0     \n",
      "    pip:        9.0.1-py27_0 \n",
      "    python:     2.7.12-1     \n",
      "    readline:   6.2-2        \n",
      "    setuptools: 27.2.0-py27_0\n",
      "    simplejson: 3.8.1-py27_0 \n",
      "    sqlite:     3.13.0-0     \n",
      "    tk:         8.5.18-0     \n",
      "    wheel:      0.29.0-py27_0\n",
      "    zlib:       1.2.8-3      \n",
      "\n",
      "Unlinking packages ...\n",
      "[      COMPLETE      ]|###################################################| 100%\n"
     ]
    }
   ],
   "source": [
    "!conda remove -n sj381-test --all -y"
   ]
  },
  {
   "cell_type": "code",
   "execution_count": 17,
   "metadata": {
    "collapsed": false
   },
   "outputs": [
    {
     "name": "stdout",
     "output_type": "stream",
     "text": [
      "Warning: could not import binstar_client ('args' object has no attribute 'site')# conda environments:\n",
      "#\n",
      "_test                    /Users/jbloom/anaconda/envs/_test\n",
      "bootcamp                 /Users/jbloom/anaconda/envs/bootcamp\n",
      "dd                       /Users/jbloom/anaconda/envs/dd\n",
      "i13                      /Users/jbloom/anaconda/envs/i13\n",
      "ipykernel_py2            /Users/jbloom/anaconda/envs/ipykernel_py2\n",
      "numpy15                  /Users/jbloom/anaconda/envs/numpy15\n",
      "py3k                     /Users/jbloom/anaconda/envs/py3k\n",
      "seminar               *  /Users/jbloom/anaconda/envs/seminar\n",
      "root                     /Users/jbloom/anaconda\n",
      "\n"
     ]
    }
   ],
   "source": [
    "!conda info -e"
   ]
  },
  {
   "cell_type": "markdown",
   "metadata": {},
   "source": [
    "<center><h1> Command Line Parsing</h1></center>\n",
    "\n",
    "<center>`python myawesomeprogram.py -o option1 -p parameter2 -Q -R`</center>\n",
    "<p>\n",
    " **Goal**: build a command-line 'standalone' codebase in Python, w/ CL options & keywords\n",
    " \n",
    " **Solution**: `argparse`, which has been built in to Python 2.7 & above (if you don’t have it, you can get it with `pip argparse`)\n",
    " \n",
    "* Allows for  user-friendly command line interfaces, and leaves it up to the code to determine what it was the user wanted.\n",
    "\n",
    "* Also automatically generates help & usage messages and issues errors when invalid arguments are provided.\n",
    "\n",
    "(Note on `optparse`: being replaced in favor of `argparse`)"
   ]
  },
  {
   "cell_type": "code",
   "execution_count": 18,
   "metadata": {
    "collapsed": true
   },
   "outputs": [],
   "source": [
    "import argparse"
   ]
  },
  {
   "cell_type": "markdown",
   "metadata": {},
   "source": [
    "# Setting up a parser #\n",
    "\n",
    "\n",
    "* First step for `argparse`: create parser object & tell it what arguments to expect. \n",
    "* It can then be used to process the command line arguments on runtime\n",
    "* Parser class: `ArgumentParser`. Takes several arguments to set up the description used in the help text for the program & other global behaviors \n",
    "   \n",
    " <p>\n",
    "See  http://www.doughellmann.com/PyMOTW/argparse/\n",
    "</p>"
   ]
  },
  {
   "cell_type": "code",
   "execution_count": 19,
   "metadata": {
    "collapsed": false
   },
   "outputs": [
    {
     "name": "stdout",
     "output_type": "stream",
     "text": [
      "Writing myfile.py\n"
     ]
    }
   ],
   "source": [
    "%%writefile myfile.py\n",
    "#!/usr/bin/env python\n",
    "import argparse\n",
    "parser = argparse.ArgumentParser(description='Sample Application')\n",
    "print(\"hi\")"
   ]
  },
  {
   "cell_type": "code",
   "execution_count": 20,
   "metadata": {
    "collapsed": false
   },
   "outputs": [
    {
     "name": "stdout",
     "output_type": "stream",
     "text": [
      "hi\n"
     ]
    }
   ],
   "source": [
    "%run myfile.py"
   ]
  },
  {
   "cell_type": "markdown",
   "metadata": {},
   "source": [
    "# Defining Arguments & Parsing\n",
    "\n",
    "* Arguments can trigger different actions, specified by the action argument to `add_argument()`. \n",
    "* Several supported actions.\n",
    "* Once all of the arguments are defined, you can parse the command line by passing a sequence of argument strings to `parse_args()`. \n",
    "* By default, arguments are taken from `sys.argv[1:]`, but you can also pass your own list."
   ]
  },
  {
   "cell_type": "code",
   "execution_count": 21,
   "metadata": {
    "collapsed": false
   },
   "outputs": [
    {
     "name": "stdout",
     "output_type": "stream",
     "text": [
      "Writing argparse_action.py\n"
     ]
    }
   ],
   "source": [
    "%%file argparse_action.py\n",
    "import argparse\n",
    "parser = argparse.ArgumentParser(description='Sample Application')\n",
    "parser.add_argument('required_arg_1', help='This positional argument is required')\n",
    "parser.add_argument('required_arg_2', help='This positional argument is also required')\n",
    "parser.add_argument('-s', action='store', dest='simple_value',\n",
    "                    help='Store a simple value')\n",
    "parser.add_argument('-c', action='store_const', dest='constant_value',\n",
    "                    const='value-to-store',\n",
    "                    help='Store a constant value')\n",
    "parser.add_argument('-t', action='store_true', default=False,\n",
    "                    dest='boolean_switch',\n",
    "                    help='Set a switch to true')\n",
    "parser.add_argument('-a', action='append', dest='collection',\n",
    "                    default=[],\n",
    "                    help='Add repeated values to a list',\n",
    "                    )\n",
    "parser.add_argument('-A', action='append_const', dest='const_collection',\n",
    "                    const='value-1-to-append',\n",
    "                    default=[],\n",
    "                    help='Add different values to list')\n",
    "parser.add_argument('-B', action='append_const', dest='const_collection',\n",
    "                    const='value-2-to-append',\n",
    "                    help='Add different values to list')\n",
    "parser.add_argument('--version', action='version', version='%(prog)s 1.0')\n",
    "\n",
    "results = parser.parse_args()\n",
    "print('required_args    =', results.required_arg_1, results.required_arg_2)\n",
    "print('simple_value     =', results.simple_value)\n",
    "print('constant_value   =', results.constant_value)\n",
    "print('boolean_switch   =', results.boolean_switch)\n",
    "print('collection       =', results.collection)\n",
    "print('const_collection =', results.const_collection)"
   ]
  },
  {
   "cell_type": "code",
   "execution_count": 27,
   "metadata": {
    "collapsed": false
   },
   "outputs": [
    {
     "name": "stdout",
     "output_type": "stream",
     "text": [
      "usage: argparse_action.py [-h] [-s SIMPLE_VALUE] [-c] [-t] [-a COLLECTION]\n",
      "                          [-A] [-B] [--version]\n",
      "                          required_arg_1 required_arg_2\n",
      "\n",
      "Sample Application\n",
      "\n",
      "positional arguments:\n",
      "  required_arg_1   This positional argument is required\n",
      "  required_arg_2   This positional argument is also required\n",
      "\n",
      "optional arguments:\n",
      "  -h, --help       show this help message and exit\n",
      "  -s SIMPLE_VALUE  Store a simple value\n",
      "  -c               Store a constant value\n",
      "  -t               Set a switch to true\n",
      "  -a COLLECTION    Add repeated values to a list\n",
      "  -A               Add different values to list\n",
      "  -B               Add different values to list\n",
      "  --version        show program's version number and exit\n"
     ]
    }
   ],
   "source": [
    "%run argparse_action.py --help"
   ]
  },
  {
   "cell_type": "markdown",
   "metadata": {},
   "source": [
    "* `store`: Save the value, after optionally converting it to a different type (default)\n",
    "* `store_const`: Save the value as defined as part of the argument specification, rather than a value that comes from the arguments being parsed\n",
    "* `store_true`/`store_false`: Save the appropriate boolean value\n",
    "* `append`: Save the value to a list.  Multiple values are saved if the argument is repeated\n",
    "* `append_const`: Save a value defined in the argument specification to a list\n",
    "* `version`: Prints version details about the program and then exits"
   ]
  },
  {
   "cell_type": "markdown",
   "metadata": {},
   "source": [
    "There's also some other ways of doing arguement parsing that you might want to explore:\n",
    "\n",
    " * Click: http://click.pocoo.org/5/quickstart/#basic-concepts\n"
   ]
  },
  {
   "cell_type": "code",
   "execution_count": 28,
   "metadata": {
    "collapsed": false
   },
   "outputs": [
    {
     "name": "stdout",
     "output_type": "stream",
     "text": [
      "Requirement already satisfied: click in /Users/jbloom/anaconda/envs/seminar/lib/python3.5/site-packages\r\n"
     ]
    }
   ],
   "source": [
    "!pip install click"
   ]
  },
  {
   "cell_type": "code",
   "execution_count": 29,
   "metadata": {
    "collapsed": false
   },
   "outputs": [
    {
     "name": "stdout",
     "output_type": "stream",
     "text": [
      "Writing hello.py\n"
     ]
    }
   ],
   "source": [
    "%%writefile hello.py\n",
    "import click\n",
    "@click.command()\n",
    "@click.option('--count', default=1, help='number of greetings')\n",
    "@click.argument('name')\n",
    "def hello(count, name):\n",
    "    for x in range(count):\n",
    "        click.echo('Hello %s!' % name)\n",
    "\n",
    "if __name__ == '__main__':\n",
    "    hello()"
   ]
  },
  {
   "cell_type": "code",
   "execution_count": 30,
   "metadata": {
    "collapsed": false
   },
   "outputs": [
    {
     "name": "stdout",
     "output_type": "stream",
     "text": [
      "Usage: hello.py [OPTIONS] NAME\r\n",
      "\r\n",
      "Options:\r\n",
      "  --count INTEGER  number of greetings\r\n",
      "  --help           Show this message and exit.\r\n"
     ]
    }
   ],
   "source": [
    "!python hello.py --help"
   ]
  },
  {
   "cell_type": "code",
   "execution_count": 33,
   "metadata": {
    "collapsed": false
   },
   "outputs": [
    {
     "name": "stdout",
     "output_type": "stream",
     "text": [
      "Hello Cal!\r\n",
      "Hello Cal!\r\n",
      "Hello Cal!\r\n",
      "Hello Cal!\r\n"
     ]
    }
   ],
   "source": [
    "!python hello.py --count=4 Cal"
   ]
  },
  {
   "cell_type": "markdown",
   "metadata": {},
   "source": [
    "# Breakout! #\n",
    "\n",
    "* Go to the breakout folder in: `../Breakouts/01_Versioning_Application_Building/`\n",
    "\n",
    "* Work on the file `breakout1.py`.  Do not move or modify the other files, in the other folders, but you will need to use them.  (You may add files to these directories, if necessary)\n",
    "\n",
    "* Build up a command line parser which allows the user to specify:\n",
    " - how many datapoints to generate\n",
    " - whether to plot with a filled in histogram or an outlined one\n",
    " - the title of the plot\n",
    " - And then have the plot be generated.\n",
    "\n",
    "* We want to be able to run a command like:\n",
    "\n",
    "```bash\n",
    "python breakout1.py -t -n 200 -T \"My Awesome Title\"\n",
    "```"
   ]
  },
  {
   "cell_type": "code",
   "execution_count": 34,
   "metadata": {
    "collapsed": false
   },
   "outputs": [
    {
     "name": "stdout",
     "output_type": "stream",
     "text": [
      "/Users/jbloom/Classes/python-seminar/Breakouts/01_Versioning_Application_Building/sol\n"
     ]
    }
   ],
   "source": [
    "cd /Users/jbloom/Classes/python-seminar/Breakouts/01_Versioning_Application_Building/sol"
   ]
  },
  {
   "cell_type": "code",
   "execution_count": 41,
   "metadata": {
    "collapsed": false
   },
   "outputs": [
    {
     "name": "stdout",
     "output_type": "stream",
     "text": [
      "﻿# code from http://www.scipy.org/Cookbook/Matplotlib/UnfilledHistograms?action=AttachFile&do=get&target=histNofill.py\r\n",
      "import matplotlib.pyplot as plt\r\n",
      "import numpy as np\r\n",
      "\r\n",
      "\r\n",
      "def _histOutline(dataIn, *args, **kwargs):\r\n",
      "    \"\"\"\r\n",
      "    Make a histogram that can be plotted with plot() so that\r\n",
      "    the histogram just has the outline rather than bars as it\r\n",
      "    usually does.\r\n",
      "\r\n",
      "    Example Usage:\r\n",
      "    binsIn = numpy.arange(0, 1, 0.1)\r\n",
      "    angle = pylab.rand(50)\r\n",
      "\r\n",
      "    (bins, data) = histOutline(binsIn, angle)\r\n",
      "    plot(bins, data, 'k-', linewidth=2)\r\n",
      "\r\n",
      "    \"\"\"\r\n",
      "\r\n",
      "    (histIn, binsIn) = np.histogram(dataIn, *args, **kwargs)\r\n",
      "\r\n",
      "    stepSize = binsIn[1] - binsIn[0]\r\n",
      "\r\n",
      "    bins = np.zeros(len(binsIn)*2 + 2, dtype=np.float)\r\n",
      "    data = np.zeros(len(binsIn)*2 + 2, dtype=np.float)    \r\n",
      "    for bb in range(len(binsIn)):\r\n",
      "        bins[2*bb + 1] = binsIn[bb]\r\n",
      "        bins[2*bb + 2] = binsIn[bb] + stepSize\r\n",
      "        if bb < len(histIn):\r\n",
      "            data[2*bb + 1] = histIn[bb]\r\n",
      "            data[2*bb + 2] = histIn[bb]\r\n",
      "\r\n",
      "    bins[0] = bins[1]\r\n",
      "    bins[-1] = bins[-2]\r\n",
      "    data[0] = 0\r\n",
      "    data[-1] = 0\r\n",
      "    \r\n",
      "    return (bins, data)\r\n",
      "\r\n",
      "def OutlinedHistogram(data,title=\"\"):\r\n",
      "    (bins, data) = _histOutline(data)\r\n",
      "    ax = plt.plot(bins, data, 'k-', linewidth=2)\r\n",
      "    plt.title(title)\r\n",
      "    plt.show()\r\n",
      "    \r\n",
      "def RegularHistogram(data,title=\"\"):\r\n",
      "    ax = plt.hist(data)\r\n",
      "    plt.title(title)\r\n",
      "    plt.show()\r\n",
      "\r\n",
      "\r\n",
      "\r\n",
      "\r\n",
      "\r\n"
     ]
    }
   ],
   "source": [
    "!cat plotting/histOutline.py"
   ]
  },
  {
   "cell_type": "code",
   "execution_count": 36,
   "metadata": {
    "collapsed": true
   },
   "outputs": [],
   "source": [
    "%matplotlib inline"
   ]
  },
  {
   "cell_type": "code",
   "execution_count": 37,
   "metadata": {
    "collapsed": false
   },
   "outputs": [
    {
     "data": {
      "image/png": "[encoded data removed]",
      "text/plain": [
       "<matplotlib.figure.Figure at 0x10aacb240>"
      ]
     },
     "metadata": {},
     "output_type": "display_data"
    }
   ],
   "source": [
    "%run breakout1_solution.py -t"
   ]
  },
  {
   "cell_type": "code",
   "execution_count": 42,
   "metadata": {
    "collapsed": false
   },
   "outputs": [
    {
     "data": {
      "image/png": "[encoded data removed]",
      "text/plain": [
       "<matplotlib.figure.Figure at 0x10d50d0b8>"
      ]
     },
     "metadata": {},
     "output_type": "display_data"
    }
   ],
   "source": [
    "%run breakout1_solution.py -n 200 -T \"My Awesome Title\""
   ]
  },
  {
   "cell_type": "code",
   "execution_count": 43,
   "metadata": {
    "collapsed": false
   },
   "outputs": [
    {
     "name": "stdout",
     "output_type": "stream",
     "text": [
      "usage: breakout1_solution.py [-h] [-t] [-T TITLE] [-n NUM] [--version]\n",
      "\n",
      "Sample Application\n",
      "\n",
      "optional arguments:\n",
      "  -h, --help  show this help message and exit\n",
      "  -t          Fill the histogram?\n",
      "  -T TITLE    Title\n",
      "  -n NUM      Number of data points\n",
      "  --version   show program's version number and exit\n"
     ]
    }
   ],
   "source": [
    "%run breakout1_solution.py --help"
   ]
  },
  {
   "cell_type": "code",
   "execution_count": null,
   "metadata": {
    "collapsed": true
   },
   "outputs": [],
   "source": []
  }
 ],
 "metadata": {
  "kernelspec": {
   "display_name": "Python 3",
   "language": "python",
   "name": "py3k"
  },
  "language_info": {
   "codemirror_mode": {
    "name": "ipython",
    "version": 3
   },
   "file_extension": ".py",
   "mimetype": "text/x-python",
   "name": "python",
   "nbconvert_exporter": "python",
   "pygments_lexer": "ipython3",
   "version": "3.5.2"
  }
 },
 "nbformat": 4,
 "nbformat_minor": 0
}
