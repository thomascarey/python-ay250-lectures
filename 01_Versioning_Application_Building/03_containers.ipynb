{
 "cells": [
  {
   "cell_type": "markdown",
   "metadata": {},
   "source": [
    "## Containerization\n",
    "\n",
    "If you want to package your code AND other non-python files/executables, you need to ship a description of what it takes to get a system to a state with all the dependencies.\n",
    "\n",
    "Docker is a way to specify the precise steps taken to install what you need to run your program. See http://containertutorials.com/index.html"
   ]
  },
  {
   "cell_type": "code",
   "execution_count": 3,
   "metadata": {
    "collapsed": false
   },
   "outputs": [
    {
     "name": "stdout",
     "output_type": "stream",
     "text": [
      "/Users/jbloom/Classes/python-seminar/DataFiles_and_Notebooks/01_Versioning_Application_Building/PyDocker\n"
     ]
    }
   ],
   "source": [
    "cd PyDocker/"
   ]
  },
  {
   "cell_type": "code",
   "execution_count": null,
   "metadata": {
    "collapsed": false
   },
   "outputs": [],
   "source": [
    "!git checkout docker"
   ]
  },
  {
   "cell_type": "code",
   "execution_count": 4,
   "metadata": {
    "collapsed": false
   },
   "outputs": [
    {
     "name": "stdout",
     "output_type": "stream",
     "text": [
      "Usage: docker [OPTIONS] COMMAND [arg...]\r\n",
      "       docker [ --help | -v | --version ]\r\n",
      "\r\n",
      "A self-sufficient runtime for containers.\r\n",
      "\r\n",
      "Options:\r\n",
      "\r\n",
      "  --config=~/.docker              Location of client config files\r\n",
      "  -D, --debug                     Enable debug mode\r\n",
      "  -H, --host=[]                   Daemon socket(s) to connect to\r\n",
      "  -h, --help                      Print usage\r\n",
      "  -l, --log-level=info            Set the logging level\r\n",
      "  --tls                           Use TLS; implied by --tlsverify\r\n",
      "  --tlscacert=~/.docker/ca.pem    Trust certs signed only by this CA\r\n",
      "  --tlscert=~/.docker/cert.pem    Path to TLS certificate file\r\n",
      "  --tlskey=~/.docker/key.pem      Path to TLS key file\r\n",
      "  --tlsverify                     Use TLS and verify the remote\r\n",
      "  -v, --version                   Print version information and quit\r\n",
      "\r\n",
      "Commands:\r\n",
      "    attach    Attach to a running container\r\n",
      "    build     Build an image from a Dockerfile\r\n",
      "    commit    Create a new image from a container's changes\r\n",
      "    cp        Copy files/folders between a container and the local filesystem\r\n",
      "    create    Create a new container\r\n",
      "    deploy    Create and update a stack from a Distributed Application Bundle (DAB)\r\n",
      "    diff      Inspect changes on a container's filesystem\r\n",
      "    events    Get real time events from the server\r\n",
      "    exec      Run a command in a running container\r\n",
      "    export    Export a container's filesystem as a tar archive\r\n",
      "    history   Show the history of an image\r\n",
      "    images    List images\r\n",
      "    import    Import the contents from a tarball to create a filesystem image\r\n",
      "    info      Display system-wide information\r\n",
      "    inspect   Return low-level information on a container, image or task\r\n",
      "    kill      Kill one or more running containers\r\n",
      "    load      Load an image from a tar archive or STDIN\r\n",
      "    login     Log in to a Docker registry.\r\n",
      "    logout    Log out from a Docker registry.\r\n",
      "    logs      Fetch the logs of a container\r\n",
      "    network   Manage Docker networks\r\n",
      "    node      Manage Docker Swarm nodes\r\n",
      "    pause     Pause all processes within one or more containers\r\n",
      "    plugin    Manage Docker plugins\r\n",
      "    port      List port mappings or a specific mapping for the container\r\n",
      "    ps        List containers\r\n",
      "    pull      Pull an image or a repository from a registry\r\n",
      "    push      Push an image or a repository to a registry\r\n",
      "    rename    Rename a container\r\n",
      "    restart   Restart a container\r\n",
      "    rm        Remove one or more containers\r\n",
      "    rmi       Remove one or more images\r\n",
      "    run       Run a command in a new container\r\n",
      "    save      Save one or more images to a tar archive (streamed to STDOUT by default)\r\n",
      "    search    Search the Docker Hub for images\r\n",
      "    service   Manage Docker services\r\n",
      "    stack     Manage Docker stacks\r\n",
      "    start     Start one or more stopped containers\r\n",
      "    stats     Display a live stream of container(s) resource usage statistics\r\n",
      "    stop      Stop one or more running containers\r\n",
      "    swarm     Manage Docker Swarm\r\n",
      "    tag       Tag an image into a repository\r\n",
      "    top       Display the running processes of a container\r\n",
      "    unpause   Unpause all processes within one or more containers\r\n",
      "    update    Update configuration of one or more containers\r\n",
      "    version   Show the Docker version information\r\n",
      "    volume    Manage Docker volumes\r\n",
      "    wait      Block until a container stops, then print its exit code\r\n",
      "\r\n",
      "Run 'docker COMMAND --help' for more information on a command.\r\n"
     ]
    }
   ],
   "source": [
    "!docker --help"
   ]
  },
  {
   "cell_type": "code",
   "execution_count": null,
   "metadata": {
    "collapsed": true
   },
   "outputs": [],
   "source": [
    "# git clone https://github.com/profjsb/pydocker.git"
   ]
  },
  {
   "cell_type": "code",
   "execution_count": 7,
   "metadata": {
    "collapsed": false
   },
   "outputs": [
    {
     "name": "stdout",
     "output_type": "stream",
     "text": [
      "Dockerfile       Makefile         app.py\r\n",
      "LICENSE.txt      README.md        requirements.txt\r\n"
     ]
    }
   ],
   "source": [
    "!ls"
   ]
  },
  {
   "cell_type": "code",
   "execution_count": 5,
   "metadata": {
    "collapsed": false
   },
   "outputs": [
    {
     "name": "stdout",
     "output_type": "stream",
     "text": [
      "/Users/jbloom/Classes/python-seminar/DataFiles_and_Notebooks/01_Versioning_Application_Building/PyDocker\n"
     ]
    }
   ],
   "source": [
    "cd ../PyDocker/"
   ]
  },
  {
   "cell_type": "code",
   "execution_count": 6,
   "metadata": {
    "collapsed": false
   },
   "outputs": [
    {
     "name": "stdout",
     "output_type": "stream",
     "text": [
      "FROM python:3.5-alpine\r\n",
      "\r\n",
      "MAINTAINER Josh Bloom \"profjsb@gmail.com\"\r\n",
      "\r\n",
      "## Uncomment this if you want to add numpy, cython etc.\r\n",
      "#RUN apk add --update curl gcc g++ \\\r\n",
      "#    && rm -rf /var/cache/apk/*\r\n",
      "#RUN ln -s /usr/include/locale.h /usr/include/xlocale.h\r\n",
      "#RUN pip install numpy\r\n",
      "\r\n",
      "# Uncomment this if you want bash\r\n",
      "# RUN apk add --update bash && rm -rf /var/cache/apk/*\r\n",
      "\r\n",
      "COPY . /app\r\n",
      "WORKDIR /app\r\n",
      "\r\n",
      "RUN pip install -r requirements.txt\r\n",
      "\r\n",
      "ENTRYPOINT [\"python\"]\r\n",
      "CMD [\"app.py\"]"
     ]
    }
   ],
   "source": [
    "!cat Dockerfile"
   ]
  },
  {
   "cell_type": "code",
   "execution_count": 8,
   "metadata": {
    "collapsed": false
   },
   "outputs": [
    {
     "name": "stdout",
     "output_type": "stream",
     "text": [
      "from flask import Flask\r\n",
      "\r\n",
      "app = Flask(__name__)\r\n",
      "\r\n",
      "@app.route(\"/\")\r\n",
      "def hello():\r\n",
      "    return \"Running python/flask inside Docker. W00t!\"\r\n",
      "\r\n",
      "\r\n",
      "if __name__ == \"__main__\":\r\n",
      "    app.run(debug=True,host='0.0.0.0')\r\n"
     ]
    }
   ],
   "source": [
    "!cat app.py"
   ]
  },
  {
   "cell_type": "code",
   "execution_count": 9,
   "metadata": {
    "collapsed": false
   },
   "outputs": [
    {
     "name": "stdout",
     "output_type": "stream",
     "text": [
      "# see http://www.itnotes.de/docker/development/tools/2014/08/31/speed-up-your-docker-workflow-with-a-makefile/\r\n",
      "\r\n",
      "NS = pyseminar\r\n",
      "VERSION = latest\r\n",
      "NAME = mydocker\r\n",
      "REPO = pydocker\r\n",
      "PORTS = -p 5000:5000\r\n",
      "INSTANCE = default\r\n",
      "VOLUMES = -v /tmp/docker:/var/log\r\n",
      "\r\n",
      "build:\r\n",
      "\tdocker build -t $(NS)/$(REPO):$(VERSION) .\r\n",
      "\r\n",
      "run:\r\n",
      "\t#docker rm $(NAME)-$(INSTANCE) \r\n",
      "\tdocker run -d --name $(NAME)-$(INSTANCE) $(PORTS) $(VOLUMES) $(ENV) $(NS)/$(REPO):$(VERSION)\r\n",
      "\r\n",
      "shell: run\r\n",
      "\tdocker exec -it $(NAME)-$(INSTANCE) /bin/sh\r\n",
      "\r\n",
      "default: build\r\n"
     ]
    }
   ],
   "source": [
    "!cat Makefile"
   ]
  },
  {
   "cell_type": "code",
   "execution_count": 10,
   "metadata": {
    "collapsed": false
   },
   "outputs": [
    {
     "name": "stdout",
     "output_type": "stream",
     "text": [
      "docker build -t pyseminar/pydocker:latest .\n",
      "Sending build context to Docker daemon 62.98 kB\n",
      "Step 1 : FROM python:3.5-alpine\n",
      " ---> 7aa75d330a28\n",
      "Step 2 : MAINTAINER Josh Bloom \"profjsb@gmail.com\"\n",
      " ---> Using cache\n",
      " ---> eb3a586268eb\n",
      "Step 3 : COPY . /app\n",
      " ---> Using cache\n",
      " ---> 87fb3a31e723\n",
      "Step 4 : WORKDIR /app\n",
      " ---> Using cache\n",
      " ---> 2a803ab26407\n",
      "Step 5 : RUN pip install -r requirements.txt\n",
      " ---> Using cache\n",
      " ---> c3d6e80e2444\n",
      "Step 6 : ENTRYPOINT python\n",
      " ---> Using cache\n",
      " ---> ad854fcf6256\n",
      "Step 7 : CMD app.py\n",
      " ---> Using cache\n",
      " ---> 45c02fb9631c\n",
      "Successfully built 45c02fb9631c\n"
     ]
    }
   ],
   "source": [
    "!make build"
   ]
  },
  {
   "cell_type": "code",
   "execution_count": 13,
   "metadata": {
    "collapsed": false
   },
   "outputs": [
    {
     "name": "stdout",
     "output_type": "stream",
     "text": [
      "mydocker-default\r\n"
     ]
    }
   ],
   "source": [
    "!docker stop mydocker-default"
   ]
  },
  {
   "cell_type": "code",
   "execution_count": 14,
   "metadata": {
    "collapsed": false
   },
   "outputs": [
    {
     "name": "stdout",
     "output_type": "stream",
     "text": [
      "mydocker-default\r\n"
     ]
    }
   ],
   "source": [
    "!docker rm mydocker-default"
   ]
  },
  {
   "cell_type": "code",
   "execution_count": 15,
   "metadata": {
    "collapsed": false
   },
   "outputs": [
    {
     "name": "stdout",
     "output_type": "stream",
     "text": [
      "#docker rm mydocker-default \n",
      "docker run -d --name mydocker-default -p 5000:5000 -v /tmp/docker:/var/log  pyseminar/pydocker:latest\n",
      "deed56cf10d3524a40a5459a4b17b7172dca195eb167b334a60b24c2bc88173e\n"
     ]
    }
   ],
   "source": [
    "!make run"
   ]
  },
  {
   "cell_type": "markdown",
   "metadata": {},
   "source": [
    "# Getting Your Code to run in the Cloud\n",
    "\n",
    "We'll use Azure here (chose your favorite PaaS).\n",
    "\n",
    "<img src=\"https://www.evernote.com/l/AUUnHS8P_6FJC42YiO345UNI8gkG-8rzGa4B/image.png\">"
   ]
  },
  {
   "cell_type": "code",
   "execution_count": null,
   "metadata": {
    "collapsed": true
   },
   "outputs": [],
   "source": [
    "52.175.216.27:5000"
   ]
  }
 ],
 "metadata": {
  "kernelspec": {
   "display_name": "Python 3",
   "language": "python",
   "name": "py3k"
  },
  "language_info": {
   "codemirror_mode": {
    "name": "ipython",
    "version": 3
   },
   "file_extension": ".py",
   "mimetype": "text/x-python",
   "name": "python",
   "nbconvert_exporter": "python",
   "pygments_lexer": "ipython3",
   "version": "3.5.2"
  }
 },
 "nbformat": 4,
 "nbformat_minor": 0
}
