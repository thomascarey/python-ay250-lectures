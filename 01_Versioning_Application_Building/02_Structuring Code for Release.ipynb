{
 "cells": [
  {
   "cell_type": "markdown",
   "metadata": {},
   "source": [
    "# Structuring Code for Release"
   ]
  },
  {
   "cell_type": "markdown",
   "metadata": {},
   "source": [
    "<center><h2>Modules and Packages</h2></center>\n",
    "\n",
    "* As code gets more involved, it becomes unwieldy & unnatural to keep everything in the same file, or even the same folder\n",
    "\n",
    "* Functions from other codes made for different reasons might be useful elsewhere\n",
    "\n",
    "* Useful to break up code into modules and packages  - used like ‘package.module’\n",
    "\n",
    "* **Module**: file containing defined functions & variables. **It must have a .py extension.**\n",
    "\n",
    "* **Package**: a properly-organized folder containing modules (packages Numpy are well-developed examples - you can make your own) "
   ]
  },
  {
   "cell_type": "code",
   "execution_count": 1,
   "metadata": {
    "collapsed": false
   },
   "outputs": [
    {
     "name": "stdout",
     "output_type": "stream",
     "text": [
      "\u001b[34mBabel-2.3.4.dist-info\u001b[m\u001b[m/\r\n",
      "CherryPy-3.8.0-py3.5.egg-info\r\n",
      "\u001b[34mCommonMark\u001b[m\u001b[m/\r\n",
      "\u001b[34mCommonMark-0.5.4.dist-info\u001b[m\u001b[m/\r\n",
      "\u001b[34mFlask-0.11.1-py3.5.egg-info\u001b[m\u001b[m/\r\n",
      "\u001b[34mFlask_Login-0.3.2.dist-info\u001b[m\u001b[m/\r\n",
      "\u001b[34mFlask_Restless-0.17.0.dist-info\u001b[m\u001b[m/\r\n",
      "\u001b[34mFlask_SQLAlchemy-2.1.dist-info\u001b[m\u001b[m/\r\n",
      "HeapDict-1.0.0-py3.5.egg-info\r\n",
      "\u001b[34mIPython\u001b[m\u001b[m/\r\n",
      "\u001b[34mJinja2-2.8-py3.5.egg-info\u001b[m\u001b[m/\r\n",
      "\u001b[34mKeras-1.1.0.dist-info\u001b[m\u001b[m/\r\n",
      "\u001b[34mMarkupSafe-0.23-py3.5.egg-info\u001b[m\u001b[m/\r\n",
      "\u001b[34mMulticoreTSNE\u001b[m\u001b[m/\r\n",
      "\u001b[34mMulticoreTSNE-0.1-py3.5.egg-info\u001b[m\u001b[m/\r\n",
      "\u001b[34mPIL\u001b[m\u001b[m/\r\n",
      "\u001b[34mPillow-3.3.1-py3.5.egg-info\u001b[m\u001b[m/\r\n",
      "\u001b[34mPyAdder-0.0.1.dist-info\u001b[m\u001b[m/\r\n",
      "\u001b[34mPyAudio-0.2.9-py3.5.egg-info\u001b[m\u001b[m/\r\n",
      "\u001b[34mPyQt4\u001b[m\u001b[m/\r\n",
      "\u001b[34mPySocks-1.5.7.dist-info\u001b[m\u001b[m/\r\n",
      "\u001b[34mPyVTK-0.5.18.dist-info\u001b[m\u001b[m/\r\n",
      "\u001b[34mPyYAML-3.12.dist-info\u001b[m\u001b[m/\r\n",
      "\u001b[34mPygments-2.1.3-py3.5.egg-info\u001b[m\u001b[m/\r\n",
      "README\r\n",
      "SQLAlchemy-1.0.13-py3.5.egg-info\r\n",
      "\u001b[34mSQLAlchemy-1.0.14.dist-info\u001b[m\u001b[m/\r\n",
      "\u001b[34mSpeechRecognition-3.4.6-py3.5.egg-info\u001b[m\u001b[m/\r\n",
      "\u001b[34mSphinx-1.4.8.dist-info\u001b[m\u001b[m/\r\n",
      "\u001b[34mTPOT-0.6.6.dist-info\u001b[m\u001b[m/\r\n",
      "\u001b[34mTheano-0.8.2.dist-info\u001b[m\u001b[m/\r\n",
      "Werkzeug-0.11.11-py3.5.egg-info\r\n",
      "\u001b[34m__pycache__\u001b[m\u001b[m/\r\n",
      "\u001b[31m_cffi_backend.cpython-35m-darwin.so\u001b[m\u001b[m*\r\n",
      "\u001b[31m_geoslib.so\u001b[m\u001b[m*\r\n",
      "\u001b[31m_portaudio.cpython-35m-darwin.so\u001b[m\u001b[m*\r\n",
      "\u001b[34m_pytest\u001b[m\u001b[m/\r\n",
      "_version.py\r\n",
      "\u001b[31m_yaml.cpython-35m-darwin.so\u001b[m\u001b[m*\r\n",
      "\u001b[31m_yaml.so\u001b[m\u001b[m*\r\n",
      "\u001b[34madder\u001b[m\u001b[m/\r\n",
      "\u001b[34maiohttp\u001b[m\u001b[m/\r\n",
      "\u001b[34maiohttp-1.0.2.dist-info\u001b[m\u001b[m/\r\n",
      "\u001b[34malabaster\u001b[m\u001b[m/\r\n",
      "\u001b[34malabaster-0.7.9.dist-info\u001b[m\u001b[m/\r\n",
      "\u001b[34maltair\u001b[m\u001b[m/\r\n",
      "\u001b[34maltair-1.0.0-py3.5.egg-info\u001b[m\u001b[m/\r\n",
      "\u001b[34maltair-1.0.0.dist-info\u001b[m\u001b[m/\r\n",
      "\u001b[34mappnope\u001b[m\u001b[m/\r\n",
      "appnope-0.1.0-py3.5.egg-info\r\n",
      "\u001b[34mapptools\u001b[m\u001b[m/\r\n",
      "\u001b[34mapptools-4.4.0.dist-info\u001b[m\u001b[m/\r\n",
      "\u001b[34margs-0.1.0.dist-info\u001b[m\u001b[m/\r\n",
      "args.py\r\n",
      "\u001b[34mastropy\u001b[m\u001b[m/\r\n",
      "\u001b[34mastropy-1.2.1.dist-info\u001b[m\u001b[m/\r\n",
      "\u001b[34mastroquery\u001b[m\u001b[m/\r\n",
      "\u001b[34mastroquery-0.3.2.dist-info\u001b[m\u001b[m/\r\n",
      "\u001b[34masync_timeout\u001b[m\u001b[m/\r\n",
      "\u001b[34masync_timeout-1.0.0.dist-info\u001b[m\u001b[m/\r\n",
      "\u001b[34mbabel\u001b[m\u001b[m/\r\n",
      "basemap-1.0.7-py3.5.egg-info\r\n",
      "\u001b[34mbeautifulsoup4-4.5.1-py3.5.egg-info\u001b[m\u001b[m/\r\n",
      "\u001b[34mbokeh\u001b[m\u001b[m/\r\n",
      "bokeh-0.12.2-py3.5.egg-info\r\n",
      "\u001b[34mboto\u001b[m\u001b[m/\r\n",
      "\u001b[34mboto-2.43.0.dist-info\u001b[m\u001b[m/\r\n",
      "\u001b[34mboto3\u001b[m\u001b[m/\r\n",
      "\u001b[34mboto3-1.3.1-py3.5.egg-info\u001b[m\u001b[m/\r\n",
      "\u001b[34mbotocore\u001b[m\u001b[m/\r\n",
      "\u001b[34mbotocore-1.4.37-py3.5.egg-info\u001b[m\u001b[m/\r\n",
      "\u001b[34mbs4\u001b[m\u001b[m/\r\n",
      "\u001b[34mbz2file-0.98.dist-info\u001b[m\u001b[m/\r\n",
      "bz2file.py\r\n",
      "\u001b[34mcffi\u001b[m\u001b[m/\r\n",
      "\u001b[34mcffi-1.8.3.dist-info\u001b[m\u001b[m/\r\n",
      "\u001b[34mchardet\u001b[m\u001b[m/\r\n",
      "\u001b[34mchardet-2.3.0.dist-info\u001b[m\u001b[m/\r\n",
      "\u001b[34mcherrypy\u001b[m\u001b[m/\r\n",
      "\u001b[34mchest\u001b[m\u001b[m/\r\n",
      "chest-0.2.3-py3.5.egg-info\r\n",
      "\u001b[34mclick\u001b[m\u001b[m/\r\n",
      "\u001b[34mclick-6.6-py3.5.egg-info\u001b[m\u001b[m/\r\n",
      "\u001b[34mclint\u001b[m\u001b[m/\r\n",
      "\u001b[34mclint-0.5.1.dist-info\u001b[m\u001b[m/\r\n",
      "\u001b[34mcloudpickle\u001b[m\u001b[m/\r\n",
      "cloudpickle-0.2.1-py3.5.egg-info\r\n",
      "\u001b[34mconfigobj-5.0.6.dist-info\u001b[m\u001b[m/\r\n",
      "configobj.py\r\n",
      "\u001b[34mcycler-0.10.0-py3.5.egg-info\u001b[m\u001b[m/\r\n",
      "cycler.py\r\n",
      "\u001b[34mdask\u001b[m\u001b[m/\r\n",
      "\u001b[34mdask-0.11.0-py3.5.egg-info\u001b[m\u001b[m/\r\n",
      "dask_learn-0.1.0-py3.5.egg\r\n",
      "\u001b[34mdatashader\u001b[m\u001b[m/\r\n",
      "\u001b[34mdatashader-0.4.0-py3.5.egg\u001b[m\u001b[m/\r\n",
      "\u001b[34mdatashape\u001b[m\u001b[m/\r\n",
      "\u001b[34mdatashape-0.5.2-py3.5.egg-info\u001b[m\u001b[m/\r\n",
      "\u001b[34mdateutil\u001b[m\u001b[m/\r\n",
      "\u001b[34mdeap\u001b[m\u001b[m/\r\n",
      "\u001b[34mdeap-1.0.2.dist-info\u001b[m\u001b[m/\r\n",
      "\u001b[34mdecorator-4.0.10-py3.5.egg-info\u001b[m\u001b[m/\r\n",
      "decorator.py\r\n",
      "\u001b[34mdistributed\u001b[m\u001b[m/\r\n",
      "\u001b[34mdistributed-1.13.2-py3.5.egg-info\u001b[m\u001b[m/\r\n",
      "\u001b[34mdocopt-0.6.2.dist-info\u001b[m\u001b[m/\r\n",
      "docopt.py\r\n",
      "\u001b[34mdocutils\u001b[m\u001b[m/\r\n",
      "docutils-0.12-py3.5.egg-info\r\n",
      "easy-install.pth\r\n",
      "easy_install.py\r\n",
      "entrypoints.py\r\n",
      "\u001b[34mexamples\u001b[m\u001b[m/\r\n",
      "\u001b[34mexternal\u001b[m\u001b[m/\r\n",
      "\u001b[34mfastdtw\u001b[m\u001b[m/\r\n",
      "\u001b[34mfastdtw-0.3.0.dist-info\u001b[m\u001b[m/\r\n",
      "\u001b[34mflask\u001b[m\u001b[m/\r\n",
      "flask_login.py\r\n",
      "\u001b[34mflask_restless\u001b[m\u001b[m/\r\n",
      "\u001b[34mflask_sqlalchemy\u001b[m\u001b[m/\r\n",
      "\u001b[34mflit\u001b[m\u001b[m/\r\n",
      "\u001b[34mflit-0.10.dist-info\u001b[m\u001b[m/\r\n",
      "\u001b[34mfuncy\u001b[m\u001b[m/\r\n",
      "\u001b[34mfuncy-1.7.1.dist-info\u001b[m\u001b[m/\r\n",
      "\u001b[34mfuture\u001b[m\u001b[m/\r\n",
      "\u001b[34mfuture-0.15.2.dist-info\u001b[m\u001b[m/\r\n",
      "\u001b[34mgensim\u001b[m\u001b[m/\r\n",
      "\u001b[34mgensim-0.13.2.dist-info\u001b[m\u001b[m/\r\n",
      "\u001b[34mgit_fame-1.1.0.dist-info\u001b[m\u001b[m/\r\n",
      "\u001b[34mgitfame\u001b[m\u001b[m/\r\n",
      "\u001b[34mgoogle\u001b[m\u001b[m/\r\n",
      "\u001b[34mgraphviz\u001b[m\u001b[m/\r\n",
      "\u001b[34mgraphviz-0.5.1.dist-info\u001b[m\u001b[m/\r\n",
      "\u001b[34mh5py\u001b[m\u001b[m/\r\n",
      "\u001b[34mh5py-2.6.0-py3.5-macosx-10.6-x86_64.egg-info\u001b[m\u001b[m/\r\n",
      "heapdict.py\r\n",
      "\u001b[34mholoviews\u001b[m\u001b[m/\r\n",
      "\u001b[34mholoviews-1.6.2-py3.5.egg-info\u001b[m\u001b[m/\r\n",
      "\u001b[34mhtml5lib\u001b[m\u001b[m/\r\n",
      "\u001b[34mhtml5lib-0.999999999.dist-info\u001b[m\u001b[m/\r\n",
      "\u001b[34mhttplib2\u001b[m\u001b[m/\r\n",
      "\u001b[34mhttplib2-0.9.2.dist-info\u001b[m\u001b[m/\r\n",
      "\u001b[34mimagesize\u001b[m\u001b[m/\r\n",
      "\u001b[34mimagesize-0.7.1.dist-info\u001b[m\u001b[m/\r\n",
      "\u001b[34mipykernel\u001b[m\u001b[m/\r\n",
      "ipykernel-4.4.1-py3.5.egg-info\r\n",
      "\u001b[34mipyparallel\u001b[m\u001b[m/\r\n",
      "ipyparallel-5.2.0-py3.5.egg-info\r\n",
      "ipython-5.1.0-py3.5.egg-info\r\n",
      "\u001b[34mipython_genutils\u001b[m\u001b[m/\r\n",
      "ipython_genutils-0.1.0-py3.5.egg-info\r\n",
      "\u001b[34mipython_memwatcher\u001b[m\u001b[m/\r\n",
      "\u001b[34mipython_memwatcher-0.2.1.dist-info\u001b[m\u001b[m/\r\n",
      "\u001b[34mipython_sql-0.3.6.dist-info\u001b[m\u001b[m/\r\n",
      "\u001b[34mipywidgets\u001b[m\u001b[m/\r\n",
      "ipywidgets-4.1.1-py3.5.egg-info\r\n",
      "itsdangerous-0.24-py3.5.egg-info\r\n",
      "itsdangerous.py\r\n",
      "\u001b[34mjinja2\u001b[m\u001b[m/\r\n",
      "\u001b[34mjmespath\u001b[m\u001b[m/\r\n",
      "\u001b[34mjmespath-0.9.0-py3.5.egg-info\u001b[m\u001b[m/\r\n",
      "\u001b[34mjoblib\u001b[m\u001b[m/\r\n",
      "joblib-0.9.4-py3.5.egg-info\r\n",
      "\u001b[34mjsonschema\u001b[m\u001b[m/\r\n",
      "\u001b[34mjsonschema-2.5.1-py3.5.egg-info\u001b[m\u001b[m/\r\n",
      "jupyter-1.0.0-py3.5.egg-info\r\n",
      "jupyter.py\r\n",
      "\u001b[34mjupyter_client\u001b[m\u001b[m/\r\n",
      "jupyter_client-4.3.0-py3.5.egg-info\r\n",
      "\u001b[34mjupyter_console\u001b[m\u001b[m/\r\n",
      "jupyter_console-5.0.0-py3.5.egg-info\r\n",
      "\u001b[34mjupyter_core\u001b[m\u001b[m/\r\n",
      "jupyter_core-4.1.1-py3.5.egg-info\r\n",
      "\u001b[34mkeras\u001b[m\u001b[m/\r\n",
      "\u001b[34mkeyring\u001b[m\u001b[m/\r\n",
      "\u001b[34mkeyring-9.3.1.dist-info\u001b[m\u001b[m/\r\n",
      "\u001b[34mlibfuturize\u001b[m\u001b[m/\r\n",
      "\u001b[34mlibpasteurize\u001b[m\u001b[m/\r\n",
      "\u001b[34mllvmlite\u001b[m\u001b[m/\r\n",
      "\u001b[34mllvmlite-0.13.0-py3.5.egg-info\u001b[m\u001b[m/\r\n",
      "\u001b[34mlocket\u001b[m\u001b[m/\r\n",
      "locket-0.2.0-py3.5.egg-info\r\n",
      "\u001b[34mlz4-0.8.2-py3.5.egg-info\u001b[m\u001b[m/\r\n",
      "\u001b[31mlz4.so\u001b[m\u001b[m*\r\n",
      "\u001b[34mmarkupsafe\u001b[m\u001b[m/\r\n",
      "\u001b[34mmatplotlib\u001b[m\u001b[m/\r\n",
      "matplotlib-1.5.2-py3.5-nspkg.pth\r\n",
      "\u001b[34mmatplotlib-1.5.2.dist-info\u001b[m\u001b[m/\r\n",
      "\u001b[34mmemory_profiler-0.41.dist-info\u001b[m\u001b[m/\r\n",
      "memory_profiler.py\r\n",
      "mimeparse.py\r\n",
      "\u001b[34mmimerender-0.6.0.dist-info\u001b[m\u001b[m/\r\n",
      "mimerender.py\r\n",
      "\u001b[34mmistune-0.7.2-py3.5.egg-info\u001b[m\u001b[m/\r\n",
      "\u001b[31mmistune.so\u001b[m\u001b[m*\r\n",
      "\u001b[34mmpi4py\u001b[m\u001b[m/\r\n",
      "\u001b[34mmpi4py-2.0.0-py3.5.egg-info\u001b[m\u001b[m/\r\n",
      "\u001b[34mmpl_toolkits\u001b[m\u001b[m/\r\n",
      "\u001b[34mmsgpack\u001b[m\u001b[m/\r\n",
      "\u001b[34mmsgpack_python-0.4.7-py3.5.egg-info\u001b[m\u001b[m/\r\n",
      "\u001b[34mmultidict\u001b[m\u001b[m/\r\n",
      "\u001b[34mmultidict-2.1.0.dist-info\u001b[m\u001b[m/\r\n",
      "\u001b[34mmultipledispatch\u001b[m\u001b[m/\r\n",
      "\u001b[34mmultipledispatch-0.4.8-py3.5.egg-info\u001b[m\u001b[m/\r\n",
      "\u001b[34mnbconvert\u001b[m\u001b[m/\r\n",
      "nbconvert-4.2.0-py3.5.egg-info\r\n",
      "\u001b[34mnbformat\u001b[m\u001b[m/\r\n",
      "nbformat-4.0.1-py3.5.egg-info\r\n",
      "\u001b[34mnbsphinx-0.2.10.dist-info\u001b[m\u001b[m/\r\n",
      "nbsphinx.py\r\n",
      "\u001b[34mnetCDF4\u001b[m\u001b[m/\r\n",
      "netCDF4-1.2.4-py3.5.egg-info\r\n",
      "\u001b[34mnetcdftime\u001b[m\u001b[m/\r\n",
      "\u001b[34mnetworkx\u001b[m\u001b[m/\r\n",
      "\u001b[34mnetworkx-1.11-py3.5.egg-info\u001b[m\u001b[m/\r\n",
      "\u001b[34mnltk\u001b[m\u001b[m/\r\n",
      "\u001b[34mnltk-3.2.1.dist-info\u001b[m\u001b[m/\r\n",
      "\u001b[34mnotebook\u001b[m\u001b[m/\r\n",
      "notebook-4.2.2-py3.5.egg-info\r\n",
      "\u001b[34mnumba\u001b[m\u001b[m/\r\n",
      "\u001b[34mnumba-0.28.1-py3.5-macosx-10.6-x86_64.egg-info\u001b[m\u001b[m/\r\n",
      "\u001b[34mnumbergen\u001b[m\u001b[m/\r\n",
      "\u001b[34mnumexpr\u001b[m\u001b[m/\r\n",
      "numexpr-2.6.1-py3.5.egg-info\r\n",
      "\u001b[34mnumpy\u001b[m\u001b[m/\r\n",
      "\u001b[34mnumpy-1.11.2-py3.5.egg-info\u001b[m\u001b[m/\r\n",
      "\u001b[34mnumpy-1.11.2.dist-info\u001b[m\u001b[m/\r\n",
      "\u001b[34mnumpydoc\u001b[m\u001b[m/\r\n",
      "\u001b[34mnumpydoc-0.6.0.dist-info\u001b[m\u001b[m/\r\n",
      "\u001b[34moauthlib\u001b[m\u001b[m/\r\n",
      "\u001b[34moauthlib-2.0.0.dist-info\u001b[m\u001b[m/\r\n",
      "\u001b[34modo\u001b[m\u001b[m/\r\n",
      "\u001b[34modo-0.5.0-py3.5.egg-info\u001b[m\u001b[m/\r\n",
      "\u001b[34mpandas\u001b[m\u001b[m/\r\n",
      "\u001b[34mpandas-0.18.1-py3.5.egg-info\u001b[m\u001b[m/\r\n",
      "\u001b[34mparam\u001b[m\u001b[m/\r\n",
      "\u001b[34mparam-1.4.1-py3.5.egg-info\u001b[m\u001b[m/\r\n",
      "\u001b[34mpartd\u001b[m\u001b[m/\r\n",
      "\u001b[34mpartd-0.3.6-py3.5.egg-info\u001b[m\u001b[m/\r\n",
      "\u001b[34mpast\u001b[m\u001b[m/\r\n",
      "path.py\r\n",
      "\u001b[34mpath.py-0.0.0-py3.5.egg-info\u001b[m\u001b[m/\r\n",
      "\u001b[34mpatsy\u001b[m\u001b[m/\r\n",
      "\u001b[34mpatsy-0.4.1.dist-info\u001b[m\u001b[m/\r\n",
      "\u001b[34mpexpect\u001b[m\u001b[m/\r\n",
      "pexpect-4.0.1-py3.5.egg-info\r\n",
      "\u001b[34mpickleshare-0.7.3-py3.5.egg-info\u001b[m\u001b[m/\r\n",
      "pickleshare.py\r\n",
      "\u001b[34mpip\u001b[m\u001b[m/\r\n",
      "\u001b[34mpip-9.0.1.dist-info\u001b[m\u001b[m/\r\n",
      "\u001b[34mpkg_resources\u001b[m\u001b[m/\r\n",
      "\u001b[34mpkginfo\u001b[m\u001b[m/\r\n",
      "\u001b[34mpkginfo-1.4.1.dist-info\u001b[m\u001b[m/\r\n",
      "\u001b[34mplotly\u001b[m\u001b[m/\r\n",
      "\u001b[34mplotly-1.12.9.dist-info\u001b[m\u001b[m/\r\n",
      "\u001b[34mpreprocessor\u001b[m\u001b[m/\r\n",
      "\u001b[34mprettytable-0.7.2.dist-info\u001b[m\u001b[m/\r\n",
      "prettytable.py\r\n",
      "\u001b[34mprompt_toolkit\u001b[m\u001b[m/\r\n",
      "\u001b[34mprompt_toolkit-1.0.3-py3.5.egg-info\u001b[m\u001b[m/\r\n",
      "protobuf-3.0.0-py2.7-nspkg.pth\r\n",
      "\u001b[34mprotobuf-3.0.0.dist-info\u001b[m\u001b[m/\r\n",
      "\u001b[34mpsutil\u001b[m\u001b[m/\r\n",
      "psutil-4.3.0-py3.5.egg-info\r\n",
      "\u001b[34mptyprocess\u001b[m\u001b[m/\r\n",
      "ptyprocess-0.5.1-py3.5.egg-info\r\n",
      "\u001b[34mpy\u001b[m\u001b[m/\r\n",
      "\u001b[34mpy-1.4.31.dist-info\u001b[m\u001b[m/\r\n",
      "\u001b[34mpyLDAvis\u001b[m\u001b[m/\r\n",
      "\u001b[34mpyLDAvis-2.0.0.dist-info\u001b[m\u001b[m/\r\n",
      "pyaudio.py\r\n",
      "\u001b[34mpycparser\u001b[m\u001b[m/\r\n",
      "\u001b[34mpycparser-2.16.dist-info\u001b[m\u001b[m/\r\n",
      "\u001b[34mpydot_ng\u001b[m\u001b[m/\r\n",
      "\u001b[34mpydot_ng-1.0.0.dist-info\u001b[m\u001b[m/\r\n",
      "\u001b[34mpyface\u001b[m\u001b[m/\r\n",
      "\u001b[34mpyface-5.1.0.dist-info\u001b[m\u001b[m/\r\n",
      "\u001b[34mpygments\u001b[m\u001b[m/\r\n",
      "pylab.py\r\n",
      "\u001b[34mpymc3\u001b[m\u001b[m/\r\n",
      "\u001b[34mpymc3-3.0rc2.dist-info\u001b[m\u001b[m/\r\n",
      "\u001b[34mpyparsing-2.1.10.dist-info\u001b[m\u001b[m/\r\n",
      "pyparsing.py\r\n",
      "\u001b[34mpyserial-3.1.1.dist-info\u001b[m\u001b[m/\r\n",
      "\u001b[34mpytest-3.0.3.dist-info\u001b[m\u001b[m/\r\n",
      "pytest.py\r\n",
      "\u001b[34mpython_dateutil-2.5.3-py3.5.egg-info\u001b[m\u001b[m/\r\n",
      "\u001b[34mpython_mimeparse-1.5.3.dist-info\u001b[m\u001b[m/\r\n",
      "\u001b[34mpython_resize_image-1.1.3.dist-info\u001b[m\u001b[m/\r\n",
      "\u001b[34mpytz\u001b[m\u001b[m/\r\n",
      "pytz-2016.6.1-py3.5.egg-info\r\n",
      "\u001b[34mpyvtk\u001b[m\u001b[m/\r\n",
      "pyzmq-15.4.0-py3.5.egg-info\r\n",
      "\u001b[34mqtconsole\u001b[m\u001b[m/\r\n",
      "qtconsole-4.2.1-py3.5.egg-info\r\n",
      "\u001b[34mrecommonmark\u001b[m\u001b[m/\r\n",
      "\u001b[34mrecommonmark-0.4.0.dist-info\u001b[m\u001b[m/\r\n",
      "\u001b[34mrequests\u001b[m\u001b[m/\r\n",
      "\u001b[34mrequests-2.12.1.dist-info\u001b[m\u001b[m/\r\n",
      "\u001b[34mrequests_download-0.1.1.dist-info\u001b[m\u001b[m/\r\n",
      "requests_download.py\r\n",
      "\u001b[34mrequests_oauthlib\u001b[m\u001b[m/\r\n",
      "\u001b[34mrequests_oauthlib-0.7.0.dist-info\u001b[m\u001b[m/\r\n",
      "\u001b[34mrequests_toolbelt\u001b[m\u001b[m/\r\n",
      "\u001b[34mrequests_toolbelt-0.7.0.dist-info\u001b[m\u001b[m/\r\n",
      "\u001b[34mresizeimage\u001b[m\u001b[m/\r\n",
      "\u001b[34ms3fs\u001b[m\u001b[m/\r\n",
      "\u001b[34ms3fs-0.0.7-py3.5.egg-info\u001b[m\u001b[m/\r\n",
      "scikit_learn-0.18-py3.5.egg-info\r\n",
      "\u001b[34mscipy\u001b[m\u001b[m/\r\n",
      "\u001b[34mscipy-0.18.1.dist-info\u001b[m\u001b[m/\r\n",
      "\u001b[34mseaborn\u001b[m\u001b[m/\r\n",
      "seaborn-0.7.1-py3.5.egg-info\r\n",
      "\u001b[34mseaborn-0.7.1.dist-info\u001b[m\u001b[m/\r\n",
      "\u001b[34mserial\u001b[m\u001b[m/\r\n",
      "setupegg.py\r\n",
      "\u001b[34msetuptools\u001b[m\u001b[m/\r\n",
      "\u001b[34msetuptools-28.8.0.dist-info\u001b[m\u001b[m/\r\n",
      "setuptools.pth\r\n",
      "simplegeneric-0.8.1-py3.5.egg-info\r\n",
      "simplegeneric.py\r\n",
      "sip.pyi\r\n",
      "\u001b[31msip.so\u001b[m\u001b[m*\r\n",
      "sipconfig.py\r\n",
      "sipdistutils.py\r\n",
      "six-1.10.0-py3.5.egg-info\r\n",
      "six.py\r\n",
      "\u001b[34msklearn\u001b[m\u001b[m/\r\n",
      "\u001b[34msmart_open\u001b[m\u001b[m/\r\n",
      "\u001b[34msmart_open-1.3.5.dist-info\u001b[m\u001b[m/\r\n",
      "\u001b[34msnakeviz\u001b[m\u001b[m/\r\n",
      "\u001b[34msnakeviz-0.4.1.dist-info\u001b[m\u001b[m/\r\n",
      "\u001b[34msnowballstemmer\u001b[m\u001b[m/\r\n",
      "\u001b[34msnowballstemmer-1.2.1.dist-info\u001b[m\u001b[m/\r\n",
      "socks.py\r\n",
      "sockshandler.py\r\n",
      "\u001b[34mspeech_recognition\u001b[m\u001b[m/\r\n",
      "\u001b[34msphinx\u001b[m\u001b[m/\r\n",
      "\u001b[34msql\u001b[m\u001b[m/\r\n",
      "\u001b[34msqlalchemy\u001b[m\u001b[m/\r\n",
      "\u001b[34msqlparse\u001b[m\u001b[m/\r\n",
      "\u001b[34msqlparse-0.2.1.dist-info\u001b[m\u001b[m/\r\n",
      "\u001b[34mtables\u001b[m\u001b[m/\r\n",
      "\u001b[34mtables-3.2.3.1-py3.5.egg-info\u001b[m\u001b[m/\r\n",
      "\u001b[34mtblib\u001b[m\u001b[m/\r\n",
      "\u001b[34mtblib-1.3.0-py3.5.egg-info\u001b[m\u001b[m/\r\n",
      "\u001b[34mtensorflow\u001b[m\u001b[m/\r\n",
      "\u001b[34mtensorflow-0.11.0rc0.dist-info\u001b[m\u001b[m/\r\n",
      "\u001b[34mterminado\u001b[m\u001b[m/\r\n",
      "terminado-0.6-py3.5.egg-info\r\n",
      "test_path.py\r\n",
      "\u001b[34mtests\u001b[m\u001b[m/\r\n",
      "\u001b[34mtextblob\u001b[m\u001b[m/\r\n",
      "\u001b[34mtextblob-0.11.1.dist-info\u001b[m\u001b[m/\r\n",
      "\u001b[34mtheano\u001b[m\u001b[m/\r\n",
      "\u001b[34mtoolz\u001b[m\u001b[m/\r\n",
      "\u001b[34mtoolz-0.8.0-py3.5.egg-info\u001b[m\u001b[m/\r\n",
      "\u001b[34mtornado\u001b[m\u001b[m/\r\n",
      "tornado-4.4.1-py3.5.egg-info\r\n",
      "\u001b[34mtpot\u001b[m\u001b[m/\r\n",
      "\u001b[34mtqdm\u001b[m\u001b[m/\r\n",
      "\u001b[34mtqdm-4.8.4.dist-info\u001b[m\u001b[m/\r\n",
      "\u001b[34mtraitlets\u001b[m\u001b[m/\r\n",
      "traitlets-4.2.2-py3.5.egg-info\r\n",
      "\u001b[34mtraits\u001b[m\u001b[m/\r\n",
      "\u001b[34mtraits-4.5.0.dist-info\u001b[m\u001b[m/\r\n",
      "\u001b[34mtraitsui\u001b[m\u001b[m/\r\n",
      "\u001b[34mtraitsui-5.1.0.dist-info\u001b[m\u001b[m/\r\n",
      "\u001b[34mtweepy\u001b[m\u001b[m/\r\n",
      "\u001b[34mtweepy-3.5.0.dist-info\u001b[m\u001b[m/\r\n",
      "\u001b[34mtweet_preprocessor-0.5.0.dist-info\u001b[m\u001b[m/\r\n",
      "\u001b[34mtwilio\u001b[m\u001b[m/\r\n",
      "\u001b[34mtwilio-5.5.0.dist-info\u001b[m\u001b[m/\r\n",
      "\u001b[34mtwine\u001b[m\u001b[m/\r\n",
      "\u001b[34mtwine-1.8.1.dist-info\u001b[m\u001b[m/\r\n",
      "\u001b[34mupdate_checker-0.12.dist-info\u001b[m\u001b[m/\r\n",
      "update_checker.py\r\n",
      "update_checker_test.py\r\n",
      "validate.py\r\n",
      "\u001b[34mvega\u001b[m\u001b[m/\r\n",
      "\u001b[34mvega-0.4.2-py3.5.egg-info\u001b[m\u001b[m/\r\n",
      "\u001b[34mvega-0.4.2.dist-info\u001b[m\u001b[m/\r\n",
      "\u001b[34mvirtualenv-15.1.0.dist-info\u001b[m\u001b[m/\r\n",
      "virtualenv.py\r\n",
      "\u001b[34mvirtualenv_support\u001b[m\u001b[m/\r\n",
      "\u001b[34mwcwidth\u001b[m\u001b[m/\r\n",
      "\u001b[34mwcwidth-0.1.7-py3.5.egg-info\u001b[m\u001b[m/\r\n",
      "\u001b[34mwebencodings\u001b[m\u001b[m/\r\n",
      "\u001b[34mwebencodings-0.5.dist-info\u001b[m\u001b[m/\r\n",
      "\u001b[34mwerkzeug\u001b[m\u001b[m/\r\n",
      "\u001b[34mwheel\u001b[m\u001b[m/\r\n",
      "\u001b[34mwheel-0.29.0-py3.5.egg-info\u001b[m\u001b[m/\r\n",
      "\u001b[34mwordcloud\u001b[m\u001b[m/\r\n",
      "\u001b[34mwordcloud-1.2.1.dist-info\u001b[m\u001b[m/\r\n",
      "\u001b[34mxarray\u001b[m\u001b[m/\r\n",
      "\u001b[34mxarray-0.8.2-py3.5.egg-info\u001b[m\u001b[m/\r\n",
      "\u001b[34mxlrd\u001b[m\u001b[m/\r\n",
      "\u001b[34mxlrd-1.0.0-py3.5.egg-info\u001b[m\u001b[m/\r\n",
      "xray.py\r\n",
      "\u001b[34myaml\u001b[m\u001b[m/\r\n",
      "yweather-0.1.1-py3.5.egg\r\n",
      "\u001b[34mzipfile36-0.1.3.dist-info\u001b[m\u001b[m/\r\n",
      "zipfile36.py\r\n",
      "\u001b[34mzmq\u001b[m\u001b[m/\r\n"
     ]
    }
   ],
   "source": [
    "%ls /Users/jbloom/anaconda/envs/seminar/lib/python3.5/site-packages"
   ]
  },
  {
   "cell_type": "code",
   "execution_count": 2,
   "metadata": {
    "collapsed": false
   },
   "outputs": [
    {
     "name": "stdout",
     "output_type": "stream",
     "text": [
      "Requirement already satisfied: twilio in /Users/jbloom/anaconda/envs/seminar/lib/python3.5/site-packages\r\n",
      "Requirement already satisfied: pytz in /Users/jbloom/anaconda/envs/seminar/lib/python3.5/site-packages (from twilio)\r\n",
      "Requirement already satisfied: httplib2>=0.7 in /Users/jbloom/anaconda/envs/seminar/lib/python3.5/site-packages (from twilio)\r\n",
      "Requirement already satisfied: six in /Users/jbloom/anaconda/envs/seminar/lib/python3.5/site-packages (from twilio)\r\n",
      "Requirement already satisfied: pysocks; python_version == \"3.5\" in /Users/jbloom/anaconda/envs/seminar/lib/python3.5/site-packages (from twilio)\r\n"
     ]
    }
   ],
   "source": [
    "!pip install twilio"
   ]
  },
  {
   "cell_type": "code",
   "execution_count": 3,
   "metadata": {
    "collapsed": false
   },
   "outputs": [],
   "source": [
    "from twilio import jwt"
   ]
  },
  {
   "cell_type": "code",
   "execution_count": 4,
   "metadata": {
    "collapsed": false
   },
   "outputs": [
    {
     "name": "stdout",
     "output_type": "stream",
     "text": [
      "__init__.py  \u001b[34m__pycache__\u001b[m\u001b[m/\r\n"
     ]
    }
   ],
   "source": [
    "%ls /Users/jbloom/anaconda/envs/seminar/lib/python3.5/site-packages/twilio/jwt/"
   ]
  },
  {
   "cell_type": "markdown",
   "metadata": {},
   "source": [
    "<p><h2>Modules: Setting up your path</h2></p>\n",
    "`PYTHONPATH`\n",
    "Augment the default search path for module files. The format is the same as the shell’s PATH: one or more directory pathnames separated by os.pathsep (e.g. colons on Unix or semicolons on Windows). Non-existent directories are silently ignored.\n",
    "\n",
    "In addition to normal directories, individual PYTHONPATH entries may refer to zipfiles containing pure Python modules (in either source or compiled form). Extension modules cannot be imported from zipfiles.\n",
    "The default search path is installation dependent, but generally begins with prefix/lib/pythonversion (see PYTHONHOME above). It is always appended to PYTHONPATH.\n",
    "\n",
    "An additional directory will be inserted in the search path in front of PYTHONPATH as described above under Interface options. The search path can be manipulated from within a Python program as the variable sys.path.\n",
    "\n",
    "Add to your .bashrc, .cshrc, or .tcshrc file:\n",
    "```bash\n",
    "#BASH Style: \n",
    "export PYTHONPATH=/path/to/your/code:$PYTHONPATH\n",
    "#CSH Style: \n",
    "setenv PYTHONPATH /path/to/your/code\n",
    "```"
   ]
  },
  {
   "cell_type": "code",
   "execution_count": 5,
   "metadata": {
    "collapsed": false
   },
   "outputs": [
    {
     "name": "stdout",
     "output_type": "stream",
     "text": [
      "['/Users/jbloom/anaconda/envs/seminar/lib/python3.5/site-packages/datashader-0.4.0-py3.5.egg', '/Users/jbloom/anaconda/envs/seminar/lib/python3.5/site-packages/yweather-0.1.1-py3.5.egg', '/Users/jbloom/anaconda/envs/seminar/lib/python3.5/site-packages/IPython/extensions', '/Users/jbloom/.ipython']\n"
     ]
    }
   ],
   "source": [
    "import sys\n",
    "# Get a list of all paths python is looking at with sys.path\n",
    "print(sys.path[-4:])  # only look at the first 4 to save space\n",
    "# Can append to this list:\n",
    "# sys.path.append(“/new/software/path/”)"
   ]
  },
  {
   "cell_type": "markdown",
   "metadata": {},
   "source": [
    "New paths appended will not be preserved upon exiting python. \n",
    "For long-term path appending, use PYTHONPATH environment variable defined in previous slide."
   ]
  },
  {
   "cell_type": "markdown",
   "metadata": {},
   "source": [
    "<p><h2> Packages</h2></p>\n",
    "\n",
    "\"Packages are a way of structuring Python’s module namespace by using “dotted module names”. For example, the module name A.B designates a submodule named B in a package named A. Just like the use of modules saves the authors of different modules from having to worry about each other’s global variable names, the use of dotted module names saves the authors of multi-module packages like NumPy or the Python Imaging Library from having to worry about each other’s module names.\" [Python tutorial](https://docs.python.org/3/tutorial/modules.html)\n",
    "\n",
    "* If path is set correctly, code can be broken up into reasonable folders and imported as necessary, either by importing entire modules (.py files) or functions/classes within the modules.\n",
    "\n",
    "* Put an `__init__.py` file in each folder you want to be able to import from.\n",
    "\n",
    "* Code in `__init__.py` is run when the package, or any derivative of it, is imported.  Often `__init__`.py is an empty file.\n",
    "\n",
    "* if a package’s `__init__.py` code defines a list named `__all__`, it is taken to be the list of module names that should be imported when from package import * is encountered"
   ]
  },
  {
   "cell_type": "markdown",
   "metadata": {},
   "source": [
    "Example:\n",
    "```pre\n",
    "setup.py\n",
    "README.md\n",
    "LICENSE.txt\n",
    "sound/                      #Top-level package\n",
    "  __init__.py               #Initialize the sound package\n",
    "  formats/                  #Subpackage for file format conversions\n",
    "      __init__.py\n",
    "      wavread.py\n",
    "      wavwrite.py\n",
    "      aiffread.py\n",
    "      aiffwrite.py\n",
    "      auread.py\n",
    "      auwrite.py\n",
    "      ...\n",
    "  effects/                  #Subpackage for sound effects\n",
    "      __init__.py\n",
    "      echo.py\n",
    "      surround.py\n",
    "      reverse.py\n",
    "      ...\n",
    "  filters/                  #Subpackage for filters\n",
    "      __init__.py\n",
    "      equalizer.py\n",
    "      vocoder.py\n",
    "      karaoke.py\n",
    "      ...\n",
    "```"
   ]
  },
  {
   "cell_type": "markdown",
   "metadata": {},
   "source": [
    "# Distributions - distutils2 #\n",
    "\n",
    "* distutils2: the standard way to take your directories of code and bundle them up for easy installation and use by others\n",
    "* You create a setup.py file which allows others to install your code in the standard fashion.\n",
    "* There are myriad options for the metadata you can define, an incredibly simple example is below:\n",
    "```python\n",
    "from distutils2.core import setup\n",
    "setup(name='My_Package',\n",
    "      version='0.01',\n",
    "       license='License_to_not_kill',\n",
    "      py_modules=['my_package_name'],\n",
    "      )\n",
    "```\n",
    "\n",
    "http://pythonhosted.org/Distutils2/distutils/introduction.html\n",
    "\n",
    "http://pypi.python.org/pypi/Distutils2\n",
    "\n",
    "Running the `setup.py` will install your package (and modules) into the Python path\n",
    "\n",
    "If you’ve written your own package, use distutils2 to create a standard, share-able zipped file\n",
    "```bash\n",
    "cd My_Package_folder\n",
    "python setup.py sdist\n",
    "\n",
    "[... created my_package_name-0.1.tar.gz ...]\n",
    "```\n",
    "http://guide.python-distribute.org/"
   ]
  },
  {
   "cell_type": "markdown",
   "metadata": {},
   "source": [
    "## Putting it all together\n",
    "\n",
    "See package management: https://packaging.python.org/\n",
    "\n",
    "```bash\n",
    "# tree PyAdder/ -a -T PyAdder -C --noreport -I \".git|*.pyc\"\n",
    "PyAdder/\n",
    "├── .gitignore           # files/paths to ignore if you are git\n",
    "├── .travis\n",
    "│   └── run.sh           # executable telling travis what to run (ie. tests)\n",
    "├── .travis.yml          # directive to Travis\n",
    "├── CHANGES.txt\n",
    "├── LICENSE.txt          # Be nice. Set a license.\n",
    "├── MANIFEST.in\n",
    "├── README.md            # should always have a readme\n",
    "├── adder                # name of your package\n",
    "│   ├── __init__.py\n",
    "│   └── tests                    # put your test in separate directories \n",
    "│       ├── __init__.py\n",
    "│       └── test_one_number.py\n",
    "├── requirements.txt             # python requirements\n",
    "├── setup.cfg\n",
    "└── setup.py\n",
    "```\n",
    "\n",
    "Let's look at the repo: https://github.com/profjsb/PyAdder"
   ]
  },
  {
   "cell_type": "code",
   "execution_count": 6,
   "metadata": {
    "collapsed": false
   },
   "outputs": [
    {
     "name": "stdout",
     "output_type": "stream",
     "text": [
      "/Users/jbloom/Classes/python-seminar/DataFiles_and_Notebooks/01_Versioning_Application_Building/PyAdder\n"
     ]
    }
   ],
   "source": [
    "cd PyAdder/"
   ]
  },
  {
   "cell_type": "code",
   "execution_count": 7,
   "metadata": {
    "collapsed": false
   },
   "outputs": [
    {
     "name": "stdout",
     "output_type": "stream",
     "text": [
      "running pytest\n",
      "running egg_info\n",
      "writing PyAdder.egg-info/PKG-INFO\n",
      "writing dependency_links to PyAdder.egg-info/dependency_links.txt\n",
      "writing top-level names to PyAdder.egg-info/top_level.txt\n",
      "reading manifest file 'PyAdder.egg-info/SOURCES.txt'\n",
      "reading manifest template 'MANIFEST.in'\n",
      "writing manifest file 'PyAdder.egg-info/SOURCES.txt'\n",
      "running build_ext\n",
      "\u001b[1m============================= test session starts ==============================\u001b[0m\n",
      "platform darwin -- Python 3.5.2, pytest-3.0.3, py-1.4.31, pluggy-0.4.0 -- /Users/jbloom/anaconda/envs/seminar/bin/python\n",
      "cachedir: .cache\n",
      "rootdir: /Users/jbloom/Classes/python-seminar/DataFiles_and_Notebooks/01_Versioning_Application_Building/PyAdder, inifile: setup.cfg\n",
      "collected 3 items \n",
      "\u001b[0m\n",
      "adder/tests/test_one_number.py::TestOneNumber::test_deplorables \u001b[32mPASSED\u001b[0m\n",
      "adder/tests/test_one_number.py::TestOneNumber::test_floats \u001b[32mPASSED\u001b[0m\n",
      "adder/tests/test_one_number.py::TestOneNumber::test_ints \u001b[32mPASSED\u001b[0m\n",
      "\n",
      "\u001b[32m\u001b[1m=========================== 3 passed in 1.79 seconds ===========================\u001b[0m\n"
     ]
    }
   ],
   "source": [
    "!python setup.py test"
   ]
  },
  {
   "cell_type": "code",
   "execution_count": 8,
   "metadata": {
    "collapsed": false
   },
   "outputs": [
    {
     "name": "stdout",
     "output_type": "stream",
     "text": [
      "running sdist\n",
      "running egg_info\n",
      "writing PyAdder.egg-info/PKG-INFO\n",
      "writing top-level names to PyAdder.egg-info/top_level.txt\n",
      "writing dependency_links to PyAdder.egg-info/dependency_links.txt\n",
      "reading manifest file 'PyAdder.egg-info/SOURCES.txt'\n",
      "reading manifest template 'MANIFEST.in'\n",
      "writing manifest file 'PyAdder.egg-info/SOURCES.txt'\n",
      "warning: sdist: standard file not found: should have one of README, README.rst, README.txt\n",
      "\n",
      "running check\n",
      "creating PyAdder-0.0.1\n",
      "creating PyAdder-0.0.1/PyAdder.egg-info\n",
      "creating PyAdder-0.0.1/adder\n",
      "creating PyAdder-0.0.1/adder/tests\n",
      "copying files to PyAdder-0.0.1...\n",
      "copying CHANGES.txt -> PyAdder-0.0.1\n",
      "copying LICENSE.txt -> PyAdder-0.0.1\n",
      "copying MANIFEST.in -> PyAdder-0.0.1\n",
      "copying README.md -> PyAdder-0.0.1\n",
      "copying requirements.txt -> PyAdder-0.0.1\n",
      "copying setup.cfg -> PyAdder-0.0.1\n",
      "copying setup.py -> PyAdder-0.0.1\n",
      "copying PyAdder.egg-info/PKG-INFO -> PyAdder-0.0.1/PyAdder.egg-info\n",
      "copying PyAdder.egg-info/SOURCES.txt -> PyAdder-0.0.1/PyAdder.egg-info\n",
      "copying PyAdder.egg-info/dependency_links.txt -> PyAdder-0.0.1/PyAdder.egg-info\n",
      "copying PyAdder.egg-info/top_level.txt -> PyAdder-0.0.1/PyAdder.egg-info\n",
      "copying adder/__init__.py -> PyAdder-0.0.1/adder\n",
      "copying adder/tests/__init__.py -> PyAdder-0.0.1/adder/tests\n",
      "copying adder/tests/test_one_number.py -> PyAdder-0.0.1/adder/tests\n",
      "Writing PyAdder-0.0.1/setup.cfg\n",
      "Creating tar archive\n",
      "removing 'PyAdder-0.0.1' (and everything under it)\n",
      "running bdist_wheel\n",
      "running build\n",
      "running build_py\n",
      "installing to build/bdist.macosx-10.6-x86_64/wheel\n",
      "running install\n",
      "running install_lib\n",
      "creating build/bdist.macosx-10.6-x86_64/wheel\n",
      "creating build/bdist.macosx-10.6-x86_64/wheel/adder\n",
      "copying build/lib/adder/__init__.py -> build/bdist.macosx-10.6-x86_64/wheel/adder\n",
      "creating build/bdist.macosx-10.6-x86_64/wheel/adder/tests\n",
      "copying build/lib/adder/tests/__init__.py -> build/bdist.macosx-10.6-x86_64/wheel/adder/tests\n",
      "copying build/lib/adder/tests/test_one_number.py -> build/bdist.macosx-10.6-x86_64/wheel/adder/tests\n",
      "running install_egg_info\n",
      "Copying PyAdder.egg-info to build/bdist.macosx-10.6-x86_64/wheel/PyAdder-0.0.1-py3.5.egg-info\n",
      "running install_scripts\n",
      "creating build/bdist.macosx-10.6-x86_64/wheel/PyAdder-0.0.1.dist-info/WHEEL\n"
     ]
    }
   ],
   "source": [
    "!python setup.py sdist bdist_wheel"
   ]
  },
  {
   "cell_type": "code",
   "execution_count": 9,
   "metadata": {
    "collapsed": false
   },
   "outputs": [
    {
     "name": "stdout",
     "output_type": "stream",
     "text": [
      "PyAdder-0.0.1-py3-none-any.whl  PyAdder-0.0.1.tar.gz\r\n"
     ]
    }
   ],
   "source": [
    "ls dist/"
   ]
  },
  {
   "cell_type": "code",
   "execution_count": 10,
   "metadata": {
    "collapsed": false
   },
   "outputs": [
    {
     "name": "stdout",
     "output_type": "stream",
     "text": [
      "Requirement already satisfied: PyAdder==0.0.1 from file:///Users/jbloom/Classes/python-seminar/DataFiles_and_Notebooks/01_Versioning_Application_Building/PyAdder/dist/PyAdder-0.0.1-py3-none-any.whl in /Users/jbloom/anaconda/envs/seminar/lib/python3.5/site-packages\r\n"
     ]
    }
   ],
   "source": [
    "!pip install dist/PyAdder-0.0.1-py3-none-any.whl"
   ]
  },
  {
   "cell_type": "code",
   "execution_count": 12,
   "metadata": {
    "collapsed": false
   },
   "outputs": [
    {
     "data": {
      "text/plain": [
       "12"
      ]
     },
     "execution_count": 12,
     "metadata": {},
     "output_type": "execute_result"
    }
   ],
   "source": [
    "import adder\n",
    "adder.run(1,2,10,-1)"
   ]
  },
  {
   "cell_type": "markdown",
   "metadata": {},
   "source": [
    "## PyPi\n",
    "\n",
    "Let's upload to PyPi (see http://peterdowns.com/posts/first-time-with-pypi.html)"
   ]
  },
  {
   "cell_type": "code",
   "execution_count": null,
   "metadata": {
    "collapsed": true
   },
   "outputs": [],
   "source": [
    "# python setup.py sdist upload -r pypi\n",
    "https://pypi.python.org/pypi?name=PyAdder&version=0.0.1&:action=display"
   ]
  },
  {
   "cell_type": "markdown",
   "metadata": {
    "collapsed": true
   },
   "source": [
    "Now you should be able to pip install this:"
   ]
  },
  {
   "cell_type": "code",
   "execution_count": 15,
   "metadata": {
    "collapsed": false
   },
   "outputs": [
    {
     "name": "stdout",
     "output_type": "stream",
     "text": [
      "Requirement already satisfied: pyadder in /Users/jbloom/anaconda/envs/seminar/lib/python3.5/site-packages\r\n"
     ]
    }
   ],
   "source": [
    "!pip install pyadder"
   ]
  },
  {
   "cell_type": "markdown",
   "metadata": {},
   "source": [
    "# Continuous Integration\n",
    "\n",
    "\"Continuous Integration is a software development practice where members of a team integrate their work frequently, usually each person integrates at least daily - leading to multiple integrations per day. Each integration is verified by an automated build (including test) to detect integration errors as quickly as possible. Many teams find that this approach leads to significantly reduced integration problems and allows a team to develop cohesive software more rapidly.\"\n",
    "\n",
    "http://docs.python-guide.org/en/latest/scenarios/ci/\n",
    "\n",
    "**Travis-CI** is a distributed CI server which builds tests for open source projects for free. It provides multiple workers to run Python tests on and seamlessly integrates with GitHub. You can even have it comment on your Pull Requests whether this particular changeset breaks the build or not. So if you are hosting your code on GitHub, travis-ci is a great and easy way to get started with Continuous Integration. See https://docs.travis-ci.com/\n",
    "\n",
    "Let's look at the Travis CI interface: https://travis-ci.org/profjsb/PyAdder"
   ]
  },
  {
   "cell_type": "markdown",
   "metadata": {},
   "source": [
    "# Making Code Citeable\n",
    "\n",
    "http://ivory.idyll.org/blog/category/science.html\n",
    "https://guides.github.com/activities/citable-code/\n",
    "\n",
    "<img src=\"https://www.evernote.com/l/AUVFhdB6uhFC7IAz3uSz5K-L74xYniPLyQUB/image.png\">\n"
   ]
  },
  {
   "cell_type": "markdown",
   "metadata": {
    "collapsed": true
   },
   "source": [
    "<img src=\"https://www.evernote.com/l/AUUiuc2SSGNHk63FpxmZrYb2w4nSuzUry9UB/image.png\">"
   ]
  },
  {
   "cell_type": "markdown",
   "metadata": {},
   "source": [
    "https://zenodo.org/record/167358#.WC5NGqIrJ-U\n",
    "[![DOI](https://zenodo.org/badge/74057441.svg)](https://zenodo.org/badge/latestdoi/74057441)"
   ]
  },
  {
   "cell_type": "code",
   "execution_count": null,
   "metadata": {
    "collapsed": true
   },
   "outputs": [],
   "source": []
  }
 ],
 "metadata": {
  "kernelspec": {
   "display_name": "Python 3",
   "language": "python",
   "name": "python3"
  },
  "language_info": {
   "codemirror_mode": {
    "name": "ipython",
    "version": 3
   },
   "file_extension": ".py",
   "mimetype": "text/x-python",
   "name": "python",
   "nbconvert_exporter": "python",
   "pygments_lexer": "ipython3",
   "version": "3.5.2"
  }
 },
 "nbformat": 4,
 "nbformat_minor": 0
}
